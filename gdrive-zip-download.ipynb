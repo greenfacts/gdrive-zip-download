{
 "cells": [
  {
   "cell_type": "markdown",
   "metadata": {},
   "source": [
    "# Sample script to download zip files from google drive  \n",
    "may need to run 'pip install gdown' and 'pip install zipfile' from the command prompt  \n",
    "Ref's:  \n",
    "https://stackoverflow.com/a/50670037/1340111  \n",
    "https://stackoverflow.com/questions/3451111/unzipping-files-in-python  \n",
    "https://stackoverflow.com/questions/34078498/python-bzip2-file-hiding-as-a-zip-file"
   ]
  },
  {
   "cell_type": "code",
   "execution_count": 6,
   "metadata": {},
   "outputs": [],
   "source": [
    "import zipfile\n",
    "import gdown"
   ]
  },
  {
   "cell_type": "code",
   "execution_count": null,
   "metadata": {},
   "outputs": [],
   "source": [
    "import gdown\n",
    "url = \"https://drive.google.com/uc?id=0B7EVK8r0v71pOXBhSUdJWU1MYUk\"\n",
    "url = \"https://drive.google.com/uc?id=1KHop6ek8NojrGWa9K7DQRFUNpyLT5vr_\"\n",
    "output = \"file.zip\"\n",
    "gdown.download(url, output, quiet=False)"
   ]
  },
  {
   "cell_type": "code",
   "execution_count": 8,
   "metadata": {},
   "outputs": [],
   "source": [
    "output=\"file.zip\"\n",
    "import zipfile\n",
    "with zipfile.ZipFile(output, 'r') as zip_ref:\n",
    "    zip_ref.extractall('./temp/')"
   ]
  },
  {
   "cell_type": "code",
   "execution_count": null,
   "metadata": {},
   "outputs": [],
   "source": []
  }
 ],
 "metadata": {
  "kernelspec": {
   "display_name": "Python 3",
   "language": "python",
   "name": "python3"
  },
  "language_info": {
   "codemirror_mode": {
    "name": "ipython",
    "version": 3
   },
   "file_extension": ".py",
   "mimetype": "text/x-python",
   "name": "python",
   "nbconvert_exporter": "python",
   "pygments_lexer": "ipython3",
   "version": "3.8.5"
  }
 },
 "nbformat": 4,
 "nbformat_minor": 4
}
